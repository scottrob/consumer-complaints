{
 "cells": [
  {
   "cell_type": "markdown",
   "metadata": {},
   "source": [
    "## Cell imports requirements"
   ]
  },
  {
   "cell_type": "code",
   "execution_count": null,
   "metadata": {
    "collapsed": true
   },
   "outputs": [],
   "source": [
    "import math\n",
    "import random\n",
    "import statistics\n",
    "import numpy as np\n",
    "import matplotlib.pyplot as plt"
   ]
  },
  {
   "cell_type": "markdown",
   "metadata": {},
   "source": [
    "## Cell picks which side of the 'die' is showing"
   ]
  },
  {
   "cell_type": "code",
   "execution_count": null,
   "metadata": {
    "collapsed": true
   },
   "outputs": [],
   "source": [
    "def roll_die():\n",
    "    return random.randint(1, 6)"
   ]
  },
  {
   "cell_type": "markdown",
   "metadata": {},
   "source": [
    "### Cell defines the player class, here the points are tracked and reset, the game strategy is determined, and the turn is played"
   ]
  },
  {
   "cell_type": "code",
   "execution_count": null,
   "metadata": {
    "collapsed": true
   },
   "outputs": [],
   "source": [
    "class Player:\n",
    "    \"\"\"\n",
    "    Responsibilities:\n",
    "    Keep track of score and number of rolls\n",
    "    Determine if player will roll again based on current state\n",
    "    Run through a complete turn\n",
    "    -\n",
    "    \"\"\"\n",
    "\n",
    "    def __init__(self):\n",
    "        self.points = 0\n",
    "        self.rolls = 0\n",
    "\n",
    "    def reset(self):\n",
    "        self.points = 0\n",
    "        self.rolls = 0\n",
    "\n",
    "    def is_rolling_again(self):\n",
    "        \"\"\"\n",
    "        Returns True if the Player is rolling again, False otherwise\n",
    "        This method needs to be overridden in subclasses to do more complex stuff!\n",
    "        \"\"\"\n",
    "        return False\n",
    "\n",
    "    def play_turn(self):\n",
    "        self.reset()\n",
    "\n",
    "        while True:\n",
    "            roll = roll_die()\n",
    "            self.rolls += 1\n",
    "\n",
    "            if roll == 1:\n",
    "                break\n",
    "            else:\n",
    "                self.points += roll\n",
    "\n",
    "            if not self.is_rolling_again():\n",
    "                break\n",
    "\n",
    "        return self.points"
   ]
  },
  {
   "cell_type": "markdown",
   "metadata": {},
   "source": [
    "### Cell defines game state, here the player is initialised, the turns are tracked, and the points total is returned"
   ]
  },
  {
   "cell_type": "code",
   "execution_count": null,
   "metadata": {
    "collapsed": true
   },
   "outputs": [],
   "source": [
    "class PigSolitaireGame:\n",
    "    \"\"\"\n",
    "    Responsibilities:\n",
    "    Run a game\n",
    "    Keep track of total points over 7 turns\n",
    "\n",
    "    Collaborators:\n",
    "    Player (or subclass)\n",
    "    \"\"\"\n",
    "    def __init__(self, player):\n",
    "        self.player = player\n",
    "\n",
    "    def play_game(self):\n",
    "        total_points = 0\n",
    "\n",
    "        for _ in range(7):\n",
    "            total_points += self.player.play_turn()\n",
    "\n",
    "        return total_points\n"
   ]
  },
  {
   "cell_type": "markdown",
   "metadata": {},
   "source": [
    "### A modification to the strategy of the player class, defined in it's own class"
   ]
  },
  {
   "cell_type": "code",
   "execution_count": null,
   "metadata": {
    "collapsed": true
   },
   "outputs": [],
   "source": [
    "class CautiousPlayer(Player):\n",
    "    # You only need to override the methods you want to change\n",
    "    # Including __init__ - if the superclass version is fine, don't override it!\n",
    "    def is_rolling_again(self):\n",
    "        return self.rolls < 2\n"
   ]
  },
  {
   "cell_type": "markdown",
   "metadata": {},
   "source": [
    "### Here iterations of the game are played by both the player class and the modification, their results are logged in lists"
   ]
  },
  {
   "cell_type": "code",
   "execution_count": null,
   "metadata": {
    "collapsed": false
   },
   "outputs": [],
   "source": [
    "game = PigSolitaireGame(Player())\n",
    "gamey = PigSolitaireGame(CautiousPlayer())\n",
    "game_list = []\n",
    "gamey_list = []\n",
    "\n",
    "for _ in range(10):\n",
    "    game_list.append(game.play_game())\n",
    "    gamey_list.append(gamey.play_game())"
   ]
  },
  {
   "cell_type": "markdown",
   "metadata": {},
   "source": [
    "## A pretty, if basic, graph to describe the crushing defeat of the vanilla player"
   ]
  },
  {
   "cell_type": "code",
   "execution_count": null,
   "metadata": {
    "collapsed": false
   },
   "outputs": [],
   "source": [
    "plt.plot(game_list, 'ro')\n",
    "plt.plot(game_list, 'r')\n",
    "plt.plot(gamey_list, 'b^')\n",
    "plt.plot(gamey_list)\n",
    "plt.axis([-1, 11, 10, 60])\n",
    "plt.show()"
   ]
  },
  {
   "cell_type": "code",
   "execution_count": null,
   "metadata": {
    "collapsed": false
   },
   "outputs": [],
   "source": []
  },
  {
   "cell_type": "code",
   "execution_count": null,
   "metadata": {
    "collapsed": true
   },
   "outputs": [],
   "source": []
  }
 ],
 "metadata": {
  "kernelspec": {
   "display_name": "Python 3",
   "language": "python",
   "name": "python3"
  },
  "language_info": {
   "codemirror_mode": {
    "name": "ipython",
    "version": 3
   },
   "file_extension": ".py",
   "mimetype": "text/x-python",
   "name": "python",
   "nbconvert_exporter": "python",
   "pygments_lexer": "ipython3",
   "version": "3.5.1"
  }
 },
 "nbformat": 4,
 "nbformat_minor": 0
}
